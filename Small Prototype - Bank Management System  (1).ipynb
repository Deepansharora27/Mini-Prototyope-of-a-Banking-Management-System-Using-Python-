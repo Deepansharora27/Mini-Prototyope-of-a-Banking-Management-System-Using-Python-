{
 "cells": [
  {
   "cell_type": "code",
   "execution_count": 30,
   "metadata": {},
   "outputs": [],
   "source": [
    "class Account:\n",
    "    \n",
    "    def __init__(self,owner,balance):\n",
    "        self.owner=owner\n",
    "        self.balance=balance \n",
    "        \n",
    "        \n",
    "        \n",
    "    def __str__(self):\n",
    "        return f\"Accoun Owner is {self.owner} and his Current Balance is {self.balance}\"\n",
    "        \n",
    "        \n",
    "    def deposit(self,dep_amt):\n",
    "        self.balance=self.balance+dep_amt\n",
    "        print('Deposit Accepted Succesfully')\n",
    "        \n",
    "        \n",
    "    def withdraw(self,draw):\n",
    "        \n",
    "        if self.balance >= draw:\n",
    "            self.balance=self.balance-draw\n",
    "            print('Withdrawal Accepted')\n",
    "            \n",
    "        else:\n",
    "            print('You cannot withdraw cash as it exceeds your Current balance')\n",
    "\n",
    "        \n",
    "        \n",
    "        \n",
    "    "
   ]
  },
  {
   "cell_type": "code",
   "execution_count": 31,
   "metadata": {},
   "outputs": [],
   "source": [
    "my_act=Account('Deepanshu',1000)"
   ]
  },
  {
   "cell_type": "code",
   "execution_count": 32,
   "metadata": {},
   "outputs": [
    {
     "name": "stdout",
     "output_type": "stream",
     "text": [
      "Accoun Owner is Deepanshu and his Current Balance is 1000\n"
     ]
    }
   ],
   "source": [
    "print(my_act)"
   ]
  },
  {
   "cell_type": "code",
   "execution_count": 33,
   "metadata": {},
   "outputs": [
    {
     "name": "stdout",
     "output_type": "stream",
     "text": [
      "Deposit Accepted Succesfully\n"
     ]
    }
   ],
   "source": [
    "my_act.deposit(500)"
   ]
  },
  {
   "cell_type": "code",
   "execution_count": 34,
   "metadata": {},
   "outputs": [
    {
     "name": "stdout",
     "output_type": "stream",
     "text": [
      "Accoun Owner is Deepanshu and his Current Balance is 1500\n"
     ]
    }
   ],
   "source": [
    "print(my_act)"
   ]
  },
  {
   "cell_type": "code",
   "execution_count": 36,
   "metadata": {},
   "outputs": [
    {
     "name": "stdout",
     "output_type": "stream",
     "text": [
      "Withdrawal Accepted\n"
     ]
    }
   ],
   "source": [
    "my_act.withdraw(1400)"
   ]
  },
  {
   "cell_type": "code",
   "execution_count": 37,
   "metadata": {},
   "outputs": [
    {
     "name": "stdout",
     "output_type": "stream",
     "text": [
      "Accoun Owner is Deepanshu and his Current Balance is 100\n"
     ]
    }
   ],
   "source": [
    "print(my_act)"
   ]
  },
  {
   "cell_type": "code",
   "execution_count": null,
   "metadata": {},
   "outputs": [],
   "source": []
  }
 ],
 "metadata": {
  "kernelspec": {
   "display_name": "Python 3",
   "language": "python",
   "name": "python3"
  },
  "language_info": {
   "codemirror_mode": {
    "name": "ipython",
    "version": 3
   },
   "file_extension": ".py",
   "mimetype": "text/x-python",
   "name": "python",
   "nbconvert_exporter": "python",
   "pygments_lexer": "ipython3",
   "version": "3.7.1"
  }
 },
 "nbformat": 4,
 "nbformat_minor": 2
}
